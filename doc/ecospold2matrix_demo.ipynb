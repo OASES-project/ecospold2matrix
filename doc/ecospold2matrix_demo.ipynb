{
 "cells": [
  {
   "cell_type": "markdown",
   "metadata": {},
   "source": [
    "Ecospold2Matrix Demo\n",
    "====================\n",
    "\n",
    "A typical use:\n",
    "--------------"
   ]
  },
  {
   "cell_type": "markdown",
   "metadata": {},
   "source": [
    "We want to recast Ecoinvent-cutoff 3.1 in a matrix representation. We specify the location of the ecospold unit-process ecospold files, give our extraction project a name, and point to a directory to save the logs and results.\n",
    "\n",
    "Throughout the data extraction, we want to change the sign conventions for waste flows, representing the supply of waste treatment as a positive output. Also, as we have need to distinguish between situations where a value is of magnitude 0 and situations where we simply have no data, so we replace all Not-a-Number entries with 0.0. We therefore pass this choice as a defining parameters of our parser when we initialize it.\n",
    "\n",
    "When we initialize the parser, it records in a log file all project-specific and default options (see in log in pink below)."
   ]
  },
  {
   "cell_type": "code",
   "execution_count": 4,
   "metadata": {},
   "outputs": [
    {
     "name": "stderr",
     "output_type": "stream",
     "text": [
      "INFO:demo:Ecospold2Matrix Processing\n",
      "INFO:demo:Current git commit: 5146d4dacfbefba2123ba27ed8e4dd9c009b90a3\n",
      "INFO:demo:Project name: demo\n",
      "INFO:demo:Unit process and Master data directory: /home/bill/Version_3.1_cutoff_ecoSpold02/\n",
      "INFO:demo:Data saved in: /home/bill/data/eco_matrices\n",
      "INFO:demo:Sign conventions changed to make waste flows positive\n",
      "INFO:demo:Replace Not-a-Number instances with 0.0 in all matrices\n",
      "INFO:demo:Pickle intermediate results to files\n",
      "INFO:demo:Order processes based on: ISIC, activityName\n",
      "INFO:demo:Order elementary exchanges based on: compartment, subcompartment, name\n"
     ]
    }
   ],
   "source": [
    "import ecospold2matrix as e2m\n",
    "\n",
    "ecospold_dir = '/home/bill/Version_3.1_cutoff_ecoSpold02/'\n",
    "project_name = 'demo'\n",
    "out_dir = '/home/bill/data/eco_matrices'\n",
    "\n",
    "parser = e2m.Ecospold2Matrix(ecospold_dir, project_name, out_dir, positive_waste=True, nan2null=True)"
   ]
  },
  {
   "cell_type": "markdown",
   "metadata": {},
   "source": [
    "We want to recast the Ecoinvent dataset as a Leontief technology coefficient matrix with environmental extensions. We therefore call parser.ecospold_to_Leontief()\n",
    "\n",
    "In addition to the normalized coefficient tables, we also want a scaled-up flow tables, with absolute intermediate and elementary flows that match the production volumes recorded as meta-data in unit processes.\n",
    "\n",
    "As no specific file format is specified, the parser will save the results in all known formats: pandas dataframes, pandas sparse dataframes, sparse MATLAB and scipy matrices, and CSV files. Again, the parser logs all relevant operations."
   ]
  },
  {
   "cell_type": "code",
   "execution_count": 5,
   "metadata": {},
   "outputs": [
    {
     "name": "stderr",
     "output_type": "stream",
     "text": [
      "INFO:demo:Products extracted from IntermediateExchanges.xml with SHA-1 of ca2c05c4dff035265fc44c53c7b534a3a711ff70\n",
      "WARNING:demo:Removed 176 duplicate rows from activity_list, see duplicate_activity_list.csv.\n",
      "INFO:demo:Activities extracted from ActivityIndex.xml with SHA-1 of c579d38fb6fa4a52ec4e09e5b04b873df77ce4c9\n",
      "INFO:demo:Processing 11301 files in /home/bill/Version_3.1_cutoff_ecoSpold02/datasets\n",
      "INFO:demo:Flows saved in /home/bill/Version_3.1_cutoff_ecoSpold02/flows.pickle with SHA-1 of d9c64122d1e866354bd5b5d6b410deb5fa915116\n",
      "INFO:demo:Processing 11301 files - this may take a while ...\n",
      "INFO:demo:Elementary flows extracted from ElementaryExchanges.xml with SHA-1 of 8a3a0a95e8a023950f42704eebc248014164166c\n",
      "INFO:demo:Labels saved in /home/bill/Version_3.1_cutoff_ecoSpold02/rawlabels.pickle with SHA-1 of aac4e897f807a0b5740b83a02b2df18239560301\n",
      "INFO:demo:OK.   No untraceable flows.\n",
      "INFO:demo:OK. Source activities seem in order. Each product traceable to an activity that actually does produce or distribute this product.\n",
      "INFO:demo:Final, symmetric, normalized matrices saved in /home/bill/data/eco_matrices/demoPandas_symmNorm.pickle with SHA-1 of f88cd7625c179a9b5b9fd723a9ea10270eb01661\n",
      "INFO:demo:Final, symmetric, scaled-up flow matrices saved in /home/bill/data/eco_matrices/demoPandas_symmScale.pickle with SHA-1 of 59c10896a3f767486a502caee3bccbed6e1939a1\n",
      "INFO:demo:Final, symmetric, normalized matrices saved in /home/bill/data/eco_matrices/demoSparsePandas_symmNorm.pickle with SHA-1 of 0b28d60b10f741a5003a502bc907a04b86b12cc8\n",
      "INFO:demo:Final, symmetric, scaled-up flow matrices saved in /home/bill/data/eco_matrices/demoSparsePandas_symmScale.pickle with SHA-1 of cd5ac48bf293a5473d11a9aff29b5080170776ae\n",
      "INFO:demo:Final, symmetric, normalized matrices saved in /home/bill/data/eco_matrices/demoSparseMatrix_symmNorm.pickle with SHA-1 of 3bb02d845e47f4df774defed750d81b42d616116\n",
      "INFO:demo:Final, symmetric, normalized matrices saved in /home/bill/data/eco_matrices/demoSparseMatrix_symmNorm.mat with SHA-1 of 129f156563d3d33e764589e6a9833e38b5ae3e9b\n",
      "INFO:demo:Final, symmetric, scaled-up flow matrices saved in /home/bill/data/eco_matrices/demoSparseMatrix_symmScale.pickle with SHA-1 of 4b8269d07aab24720790feb3fcfac5be9cb351b6\n",
      "INFO:demo:Final, symmetric, scaled-up flow matrices saved in /home/bill/data/eco_matrices/demoSparseMatrix_symmScale.mat with SHA-1 of 329ac81318b6cc57c6d4df7b76dccbc482386074\n",
      "INFO:demo:Final matrices saved as CSV files\n",
      "INFO:demo:Done running ecospold2matrix.ecospold_to_Leontief\n"
     ]
    }
   ],
   "source": [
    "parser.ecospold_to_Leontief(with_absolute_flows=True)"
   ]
  },
  {
   "cell_type": "markdown",
   "metadata": {},
   "source": [
    "The recasting of intermediate flows as symmetric matrices was successful. The parser did not encounter any inconsistencies in the data that would have required \"patching up\". The log file records the hash of key files, which allows future users of the data to check that files have not been modified or corrupted.\n",
    "\n",
    "If we look in the output directory, we see that all python formats are saved as \"pickle files\", whereas sparse matrices are also recorded as .mat files."
   ]
  },
  {
   "cell_type": "code",
   "execution_count": 7,
   "metadata": {},
   "outputs": [
    {
     "name": "stdout",
     "output_type": "stream",
     "text": [
      "\u001b[0m\u001b[01;34mcsv\u001b[0m/                           demoSparseMatrix_symmNorm.pickle\r\n",
      "\u001b[01;34mdemo_log\u001b[0m/                      demoSparseMatrix_symmScale.mat\r\n",
      "demoPandas_symmNorm.pickle     demoSparseMatrix_symmScale.pickle\r\n",
      "demoPandas_symmScale.pickle    demoSparsePandas_symmNorm.pickle\r\n",
      "demoSparseMatrix_symmNorm.mat  demoSparsePandas_symmScale.pickle\r\n"
     ]
    }
   ],
   "source": [
    "ls '/home/bill/data/eco_matrices'"
   ]
  },
  {
   "cell_type": "markdown",
   "metadata": {},
   "source": [
    "CSV files are in their own directory, with one file for each variable: A.csv and Z.csv hold normalized and scaled-up intermediate exchanges, and PRO.csv holds the process descriptions, which serve as row/column labels for these matrices. Similarly, F.csv and G_pro.csv record normalized and scaled-up elementary flows by the different processes, with stressor descriptions (STR) serving as row labels."
   ]
  },
  {
   "cell_type": "code",
   "execution_count": 8,
   "metadata": {},
   "outputs": [
    {
     "name": "stdout",
     "output_type": "stream",
     "text": [
      "A.csv  F.csv  G_pro.csv  PRO.csv  STR.csv  Z.csv\r\n"
     ]
    }
   ],
   "source": [
    "ls '/home/bill/data/eco_matrices/csv'"
   ]
  },
  {
   "cell_type": "markdown",
   "metadata": {},
   "source": [
    "We can also access the matrices straight from the parser. The A-matrix has dimensions of 11301-by-11301 processes."
   ]
  },
  {
   "cell_type": "code",
   "execution_count": 9,
   "metadata": {},
   "outputs": [
    {
     "data": {
      "text/plain": [
       "(11301, 11301)"
      ]
     },
     "execution_count": 9,
     "metadata": {},
     "output_type": "execute_result"
    }
   ],
   "source": [
    "parser.A.shape"
   ]
  },
  {
   "cell_type": "markdown",
   "metadata": {},
   "source": [
    "Similarly, the F-matrix records normalized emission of 3955 elementary flow types,  emitted by 11301 processes."
   ]
  },
  {
   "cell_type": "code",
   "execution_count": 10,
   "metadata": {},
   "outputs": [
    {
     "data": {
      "text/plain": [
       "(3955, 11301)"
      ]
     },
     "execution_count": 10,
     "metadata": {},
     "output_type": "execute_result"
    }
   ],
   "source": [
    "parser.F.shape"
   ]
  },
  {
   "cell_type": "markdown",
   "metadata": {},
   "source": [
    "The process labels contain the official Id's, classifications (ISIC, ecospoldCategory), names, geography, units etc."
   ]
  },
  {
   "cell_type": "code",
   "execution_count": 11,
   "metadata": {},
   "outputs": [
    {
     "data": {
      "text/plain": [
       "Index(['activityId', 'productId', 'activityName', 'ISIC', 'EcoSpoldCategory', 'geography', 'technologyLevel', 'macroEconomicScenario', 'productName', 'unitName', 'activityType', 'startDate', 'endDate'], dtype='object')"
      ]
     },
     "execution_count": 11,
     "metadata": {},
     "output_type": "execute_result"
    }
   ],
   "source": [
    "parser.PRO.columns"
   ]
  },
  {
   "cell_type": "markdown",
   "metadata": {},
   "source": [
    "We can have a quick look at rows 50 to 59..."
   ]
  },
  {
   "cell_type": "code",
   "execution_count": 12,
   "metadata": {},
   "outputs": [
    {
     "data": {
      "text/html": [
       "<div style=\"max-height:1000px;max-width:1500px;overflow:auto;\">\n",
       "<table border=\"1\" class=\"dataframe\">\n",
       "  <thead>\n",
       "    <tr style=\"text-align: right;\">\n",
       "      <th></th>\n",
       "      <th>activityName</th>\n",
       "      <th>productName</th>\n",
       "      <th>geography</th>\n",
       "      <th>unitName</th>\n",
       "    </tr>\n",
       "    <tr>\n",
       "      <th>index</th>\n",
       "      <th></th>\n",
       "      <th></th>\n",
       "      <th></th>\n",
       "      <th></th>\n",
       "    </tr>\n",
       "  </thead>\n",
       "  <tbody>\n",
       "    <tr>\n",
       "      <th>017a00eb-e89a-4453-90f8-249d0d98f28f_c538baa8-11c9-4064-b3e2-9faba21c6a9b</th>\n",
       "      <td>           market for maize seed, organic, at farm</td>\n",
       "      <td>                   maize seed, organic, at farm</td>\n",
       "      <td> GLO</td>\n",
       "      <td> kg</td>\n",
       "    </tr>\n",
       "    <tr>\n",
       "      <th>f3b7e0a5-2cdf-4224-a29f-67e132c8e5d1_0dab73c6-b214-4e9c-8c38-ab49d608637b</th>\n",
       "      <td>                            market for protein pea</td>\n",
       "      <td>                                    protein pea</td>\n",
       "      <td> GLO</td>\n",
       "      <td> kg</td>\n",
       "    </tr>\n",
       "    <tr>\n",
       "      <th>fa7c1736-5313-4e39-8698-c3ec5d55abbb_510a8fef-7075-4da2-9984-8936ba08c89f</th>\n",
       "      <td> market for protein pea, Swiss integrated produ...</td>\n",
       "      <td>       protein pea, Swiss integrated production</td>\n",
       "      <td> GLO</td>\n",
       "      <td> kg</td>\n",
       "    </tr>\n",
       "    <tr>\n",
       "      <th>ea6ea016-5982-4e64-b3b5-4b57fd3360ef_06affe58-e750-4345-8725-8218d54352f7</th>\n",
       "      <td> market for protein pea, feed, Swiss integrated...</td>\n",
       "      <td> protein pea, feed, Swiss integrated production</td>\n",
       "      <td> GLO</td>\n",
       "      <td> kg</td>\n",
       "    </tr>\n",
       "    <tr>\n",
       "      <th>3f13d0c2-10d7-400a-89d1-62bdc2a4e748_fa8fdaec-627a-4055-b2e9-49b238cf166f</th>\n",
       "      <td>                   market for protein pea, organic</td>\n",
       "      <td>                           protein pea, organic</td>\n",
       "      <td> GLO</td>\n",
       "      <td> kg</td>\n",
       "    </tr>\n",
       "    <tr>\n",
       "      <th>f1cdc1be-d757-42d6-ad82-1e28e7e74aa3_cb09bcae-b469-4f41-84a6-cdd1e958e027</th>\n",
       "      <td>                              market for rape seed</td>\n",
       "      <td>                                      rape seed</td>\n",
       "      <td> GLO</td>\n",
       "      <td> kg</td>\n",
       "    </tr>\n",
       "    <tr>\n",
       "      <th>013d2289-d655-430a-9fa2-9230297efae0_44519c79-bf77-4775-a69e-182d26b1f7d5</th>\n",
       "      <td> market for rape seed, Swiss integrated production</td>\n",
       "      <td>         rape seed, Swiss integrated production</td>\n",
       "      <td> GLO</td>\n",
       "      <td> kg</td>\n",
       "    </tr>\n",
       "    <tr>\n",
       "      <th>98f22fe6-1a57-4eaa-a4e0-d5f4dc3fe4a8_80df7587-0686-45b1-af7c-38ee267c2525</th>\n",
       "      <td>                     market for rape seed, organic</td>\n",
       "      <td>                             rape seed, organic</td>\n",
       "      <td> GLO</td>\n",
       "      <td> kg</td>\n",
       "    </tr>\n",
       "    <tr>\n",
       "      <th>6b20f9ee-95c9-424e-aeba-d1e1b15b7739_edb81938-8dd6-48fc-9f24-b567992f3ecb</th>\n",
       "      <td>                              market for rye grain</td>\n",
       "      <td>                                      rye grain</td>\n",
       "      <td> GLO</td>\n",
       "      <td> kg</td>\n",
       "    </tr>\n",
       "  </tbody>\n",
       "</table>\n",
       "</div>"
      ],
      "text/plain": [
       "                                                                                                                activityName  \\\n",
       "index                                                                                                                          \n",
       "017a00eb-e89a-4453-90f8-249d0d98f28f_c538baa8-11c9-4064-b3e2-9faba21c6a9b            market for maize seed, organic, at farm   \n",
       "f3b7e0a5-2cdf-4224-a29f-67e132c8e5d1_0dab73c6-b214-4e9c-8c38-ab49d608637b                             market for protein pea   \n",
       "fa7c1736-5313-4e39-8698-c3ec5d55abbb_510a8fef-7075-4da2-9984-8936ba08c89f  market for protein pea, Swiss integrated produ...   \n",
       "ea6ea016-5982-4e64-b3b5-4b57fd3360ef_06affe58-e750-4345-8725-8218d54352f7  market for protein pea, feed, Swiss integrated...   \n",
       "3f13d0c2-10d7-400a-89d1-62bdc2a4e748_fa8fdaec-627a-4055-b2e9-49b238cf166f                    market for protein pea, organic   \n",
       "f1cdc1be-d757-42d6-ad82-1e28e7e74aa3_cb09bcae-b469-4f41-84a6-cdd1e958e027                               market for rape seed   \n",
       "013d2289-d655-430a-9fa2-9230297efae0_44519c79-bf77-4775-a69e-182d26b1f7d5  market for rape seed, Swiss integrated production   \n",
       "98f22fe6-1a57-4eaa-a4e0-d5f4dc3fe4a8_80df7587-0686-45b1-af7c-38ee267c2525                      market for rape seed, organic   \n",
       "6b20f9ee-95c9-424e-aeba-d1e1b15b7739_edb81938-8dd6-48fc-9f24-b567992f3ecb                               market for rye grain   \n",
       "\n",
       "                                                                                                              productName  \\\n",
       "index                                                                                                                       \n",
       "017a00eb-e89a-4453-90f8-249d0d98f28f_c538baa8-11c9-4064-b3e2-9faba21c6a9b                    maize seed, organic, at farm   \n",
       "f3b7e0a5-2cdf-4224-a29f-67e132c8e5d1_0dab73c6-b214-4e9c-8c38-ab49d608637b                                     protein pea   \n",
       "fa7c1736-5313-4e39-8698-c3ec5d55abbb_510a8fef-7075-4da2-9984-8936ba08c89f        protein pea, Swiss integrated production   \n",
       "ea6ea016-5982-4e64-b3b5-4b57fd3360ef_06affe58-e750-4345-8725-8218d54352f7  protein pea, feed, Swiss integrated production   \n",
       "3f13d0c2-10d7-400a-89d1-62bdc2a4e748_fa8fdaec-627a-4055-b2e9-49b238cf166f                            protein pea, organic   \n",
       "f1cdc1be-d757-42d6-ad82-1e28e7e74aa3_cb09bcae-b469-4f41-84a6-cdd1e958e027                                       rape seed   \n",
       "013d2289-d655-430a-9fa2-9230297efae0_44519c79-bf77-4775-a69e-182d26b1f7d5          rape seed, Swiss integrated production   \n",
       "98f22fe6-1a57-4eaa-a4e0-d5f4dc3fe4a8_80df7587-0686-45b1-af7c-38ee267c2525                              rape seed, organic   \n",
       "6b20f9ee-95c9-424e-aeba-d1e1b15b7739_edb81938-8dd6-48fc-9f24-b567992f3ecb                                       rye grain   \n",
       "\n",
       "                                                                          geography  \\\n",
       "index                                                                                 \n",
       "017a00eb-e89a-4453-90f8-249d0d98f28f_c538baa8-11c9-4064-b3e2-9faba21c6a9b       GLO   \n",
       "f3b7e0a5-2cdf-4224-a29f-67e132c8e5d1_0dab73c6-b214-4e9c-8c38-ab49d608637b       GLO   \n",
       "fa7c1736-5313-4e39-8698-c3ec5d55abbb_510a8fef-7075-4da2-9984-8936ba08c89f       GLO   \n",
       "ea6ea016-5982-4e64-b3b5-4b57fd3360ef_06affe58-e750-4345-8725-8218d54352f7       GLO   \n",
       "3f13d0c2-10d7-400a-89d1-62bdc2a4e748_fa8fdaec-627a-4055-b2e9-49b238cf166f       GLO   \n",
       "f1cdc1be-d757-42d6-ad82-1e28e7e74aa3_cb09bcae-b469-4f41-84a6-cdd1e958e027       GLO   \n",
       "013d2289-d655-430a-9fa2-9230297efae0_44519c79-bf77-4775-a69e-182d26b1f7d5       GLO   \n",
       "98f22fe6-1a57-4eaa-a4e0-d5f4dc3fe4a8_80df7587-0686-45b1-af7c-38ee267c2525       GLO   \n",
       "6b20f9ee-95c9-424e-aeba-d1e1b15b7739_edb81938-8dd6-48fc-9f24-b567992f3ecb       GLO   \n",
       "\n",
       "                                                                          unitName  \n",
       "index                                                                               \n",
       "017a00eb-e89a-4453-90f8-249d0d98f28f_c538baa8-11c9-4064-b3e2-9faba21c6a9b       kg  \n",
       "f3b7e0a5-2cdf-4224-a29f-67e132c8e5d1_0dab73c6-b214-4e9c-8c38-ab49d608637b       kg  \n",
       "fa7c1736-5313-4e39-8698-c3ec5d55abbb_510a8fef-7075-4da2-9984-8936ba08c89f       kg  \n",
       "ea6ea016-5982-4e64-b3b5-4b57fd3360ef_06affe58-e750-4345-8725-8218d54352f7       kg  \n",
       "3f13d0c2-10d7-400a-89d1-62bdc2a4e748_fa8fdaec-627a-4055-b2e9-49b238cf166f       kg  \n",
       "f1cdc1be-d757-42d6-ad82-1e28e7e74aa3_cb09bcae-b469-4f41-84a6-cdd1e958e027       kg  \n",
       "013d2289-d655-430a-9fa2-9230297efae0_44519c79-bf77-4775-a69e-182d26b1f7d5       kg  \n",
       "98f22fe6-1a57-4eaa-a4e0-d5f4dc3fe4a8_80df7587-0686-45b1-af7c-38ee267c2525       kg  \n",
       "6b20f9ee-95c9-424e-aeba-d1e1b15b7739_edb81938-8dd6-48fc-9f24-b567992f3ecb       kg  "
      ]
     },
     "execution_count": 12,
     "metadata": {},
     "output_type": "execute_result"
    }
   ],
   "source": [
    "parser.PRO.ix[50:59, ['activityName', 'productName', 'geography', 'unitName']]"
   ]
  },
  {
   "cell_type": "markdown",
   "metadata": {},
   "source": [
    "Working with unallocated data\n",
    "-----------------------------\n",
    "\n",
    "Instead of pre-allocated data, we want to organized unallocated data as supply and use tables (SUT) ([see pySUT](https://github.com/stefanpauliuk/pySUT)), in line with typical IO methodology ([see pyMRIO](https://github.com/konstantinstadler/pymrio)).\n",
    "\n",
    "We create a new project, with a dedicated parser to hold and record its history and our methodological choices.\n",
    "\n",
    " As this dataset had already been parsed in a previous project, we avoid re-reading ecospold files for no reason and choose to read pickled intermediate results if available, which greatly speeds up the process."
   ]
  },
  {
   "cell_type": "code",
   "execution_count": 13,
   "metadata": {},
   "outputs": [
    {
     "name": "stderr",
     "output_type": "stream",
     "text": [
      "INFO:sutdemo:Ecospold2Matrix Processing\n",
      "INFO:sutdemo:Current git commit: 5146d4dacfbefba2123ba27ed8e4dd9c009b90a3\n",
      "INFO:sutdemo:Project name: sutdemo\n",
      "INFO:sutdemo:Unit process and Master data directory: /home/bill/Version_3.0_unallocated_restricted\n",
      "INFO:sutdemo:Data saved in: /home/bill/data/eco_matrices\n",
      "INFO:sutdemo:When possible, loads pickled data instead of parsing ecospold files\n",
      "INFO:sutdemo:Pickle intermediate results to files\n",
      "INFO:sutdemo:Order processes based on: ISIC, activityName\n",
      "INFO:sutdemo:Order elementary exchanges based on: compartment, subcompartment, name\n"
     ]
    }
   ],
   "source": [
    "dataset_dir = '/home/bill/Version_3.0_unallocated_restricted'\n",
    "\n",
    "sutparser = e2m.Ecospold2Matrix(dataset_dir, 'sutdemo', out_dir, prefer_pickles=True)"
   ]
  },
  {
   "cell_type": "markdown",
   "metadata": {},
   "source": [
    "We generate the SUT and chose to save it in a pandas dataframe format."
   ]
  },
  {
   "cell_type": "code",
   "execution_count": 14,
   "metadata": {},
   "outputs": [
    {
     "name": "stderr",
     "output_type": "stream",
     "text": [
      "INFO:sutdemo:Products extracted from IntermediateExchanges.xml with SHA-1 of ca2c05c4dff035265fc44c53c7b534a3a711ff70\n",
      "WARNING:sutdemo:Removed 175 duplicate rows from activity_list, see duplicate_activity_list.csv.\n",
      "INFO:sutdemo:Activities extracted from ActivityIndex.xml with SHA-1 of 829a2696e66cc57a1f2a636d43e7e3264c6ee2b8\n",
      "INFO:sutdemo:Flows loaded from /home/bill/Version_3.0_unallocated_restricted/flows.pickle with SHA-1 of da39a3ee5e6b4b0d3255bfef95601890afd80709\n",
      "INFO:sutdemo:Labels loaded from /home/bill/Version_3.0_unallocated_restricted/rawlabels.pickle with SHA-1 of da39a3ee5e6b4b0d3255bfef95601890afd80709\n",
      "INFO:sutdemo:Final SUT matrices saved in /home/bill/data/eco_matrices/sutdemoPandas_SUT.pickle with SHA-1 of 918f3d92a287e92f243e3084b6c1d669f7912f28\n",
      "INFO:sutdemo:Done running ecospold2matrix.ecospold_to_sut\n"
     ]
    }
   ],
   "source": [
    "sutparser.ecospold_to_sut(fileformats=['Pandas'])"
   ]
  },
  {
   "cell_type": "markdown",
   "metadata": {},
   "source": [
    "This generates a python pickle file named \"sutdemoPandas_SUT.pickle\".\n",
    "\n",
    "We can also access the supply and use tables straight from the parser. Let's say we are interested in organic barley production in Switzerland..."
   ]
  },
  {
   "cell_type": "code",
   "execution_count": 15,
   "metadata": {},
   "outputs": [
    {
     "data": {
      "text/html": [
       "<div style=\"max-height:1000px;max-width:1500px;overflow:auto;\">\n",
       "<table border=\"1\" class=\"dataframe\">\n",
       "  <thead>\n",
       "    <tr style=\"text-align: right;\">\n",
       "      <th></th>\n",
       "      <th>activityId</th>\n",
       "      <th>activityName</th>\n",
       "      <th>ISIC</th>\n",
       "      <th>geography</th>\n",
       "    </tr>\n",
       "    <tr>\n",
       "      <th>index</th>\n",
       "      <th></th>\n",
       "      <th></th>\n",
       "      <th></th>\n",
       "      <th></th>\n",
       "    </tr>\n",
       "  </thead>\n",
       "  <tbody>\n",
       "    <tr>\n",
       "      <th>0b639971-3ed2-469e-b33e-a152fe63f488_f467c4d0-ea1c-4ae3-8d69-712598a0478a</th>\n",
       "      <td> 0b639971-3ed2-469e-b33e-a152fe63f488</td>\n",
       "      <td> barley production, organic</td>\n",
       "      <td> 0111:Growing of cereals (except rice), legumin...</td>\n",
       "      <td> CH</td>\n",
       "    </tr>\n",
       "  </tbody>\n",
       "</table>\n",
       "</div>"
      ],
      "text/plain": [
       "                                                                                                     activityId  \\\n",
       "index                                                                                                             \n",
       "0b639971-3ed2-469e-b33e-a152fe63f488_f467c4d0-ea1c-4ae3-8d69-712598a0478a  0b639971-3ed2-469e-b33e-a152fe63f488   \n",
       "\n",
       "                                                                                         activityName  \\\n",
       "index                                                                                                   \n",
       "0b639971-3ed2-469e-b33e-a152fe63f488_f467c4d0-ea1c-4ae3-8d69-712598a0478a  barley production, organic   \n",
       "\n",
       "                                                                                                                        ISIC  \\\n",
       "index                                                                                                                          \n",
       "0b639971-3ed2-469e-b33e-a152fe63f488_f467c4d0-ea1c-4ae3-8d69-712598a0478a  0111:Growing of cereals (except rice), legumin...   \n",
       "\n",
       "                                                                          geography  \n",
       "index                                                                                \n",
       "0b639971-3ed2-469e-b33e-a152fe63f488_f467c4d0-ea1c-4ae3-8d69-712598a0478a        CH  "
      ]
     },
     "execution_count": 15,
     "metadata": {},
     "output_type": "execute_result"
    }
   ],
   "source": [
    "sutparser.PRO.query(\"geography == 'CH' and activityName == 'barley production, organic'\")[['activityId', 'activityName', 'ISIC', 'geography']]"
   ]
  },
  {
   "cell_type": "markdown",
   "metadata": {},
   "source": [
    "We can check its column in the supply table (V), where we see its coproduction of two products (barley and straw)"
   ]
  },
  {
   "cell_type": "code",
   "execution_count": 16,
   "metadata": {},
   "outputs": [
    {
     "data": {
      "text/plain": [
       "productId\n",
       "f467c4d0-ea1c-4ae3-8d69-712598a0478a    4152.7\n",
       "692b4f7e-9e79-4f69-b22f-b66f68f2f9cc    2924.2\n",
       "Name: 0b639971-3ed2-469e-b33e-a152fe63f488, dtype: float64"
      ]
     },
     "execution_count": 16,
     "metadata": {},
     "output_type": "execute_result"
    }
   ],
   "source": [
    "sutparser.V.ix[:,'0b639971-3ed2-469e-b33e-a152fe63f488'].dropna()"
   ]
  },
  {
   "cell_type": "markdown",
   "metadata": {},
   "source": [
    "Stay tuned\n",
    "----------\n",
    "\n",
    "This is a newborn project. More demos and features yet to come. Please download, play with it, and join!"
   ]
  }
 ],
 "metadata": {
  "kernelspec": {
   "display_name": "Python 3",
   "language": "python",
   "name": "python3"
  },
  "language_info": {
   "codemirror_mode": {
    "name": "ipython",
    "version": 3
   },
   "file_extension": ".py",
   "mimetype": "text/x-python",
   "name": "python",
   "nbconvert_exporter": "python",
   "pygments_lexer": "ipython3",
   "version": "3.6.9"
  }
 },
 "nbformat": 4,
 "nbformat_minor": 1
}
